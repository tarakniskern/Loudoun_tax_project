{
 "cells": [
  {
   "cell_type": "code",
   "execution_count": 1,
   "id": "eafb7d6d-4dd7-4bf4-80a8-8676c31c0492",
   "metadata": {},
   "outputs": [
    {
     "name": "stdout",
     "output_type": "stream",
     "text": [
      "\f",
      "\n"
     ]
    }
   ],
   "source": [
    "clear"
   ]
  },
  {
   "cell_type": "markdown",
   "id": "c3394edb-97ca-4349-8416-f267d0e0ffe0",
   "metadata": {},
   "source": [
    "#prepare parcel id data to pull into the next file: selenium_loudoun_loop.ipynb"
   ]
  },
  {
   "cell_type": "code",
   "execution_count": 2,
   "id": "c71dcbda-c6c1-4249-9e8d-259f1a710692",
   "metadata": {},
   "outputs": [],
   "source": [
    "#tools to interact with the website\n",
    "\n",
    "#tools to organize data pulled from website\n",
    "import pandas as pd\n",
    "import numpy as np\n"
   ]
  },
  {
   "cell_type": "markdown",
   "id": "81414d24-c629-4d8f-9dad-2ce1f632642f",
   "metadata": {},
   "source": [
    "LOAD THE PARCEL DATA HERE"
   ]
  },
  {
   "cell_type": "code",
   "execution_count": 3,
   "id": "e50f3da2-edd4-4229-9118-c40d699e2bf3",
   "metadata": {},
   "outputs": [],
   "source": [
    "#parcel id numbers\n",
    "#will need to load the data set from arcGIS at the top\n",
    "#will need to load parcel data here to go through the entire parcel id data base\n",
    "\n",
    "file='C:/Users/mhcin/Desktop/Tara_JOBS_2021/ArcGIS_projects/Loudoun_Data/Loudoun_Data/Loudoun_alt/Loudoun_parcel.csv'\n",
    "dataxl=pd.read_csv(file, index_col=0)\n",
    "\n",
    "Parcel=dataxl['PA_MCPI'] #pull out only parcel id\n",
    "Parid_num=pd.to_numeric(Parcel, errors='coerce', downcast='integer') #change to a number\n",
    "\n",
    "# example of a parid_num = \"160491853000\" for troubleshooting"
   ]
  },
  {
   "cell_type": "code",
   "execution_count": 5,
   "id": "7ba10920-aadd-4b2a-a8e6-7cac5fa607ad",
   "metadata": {},
   "outputs": [
    {
     "data": {
      "text/plain": [
       "OID_\n",
       "1                  NaN\n",
       "2         258276827000\n",
       "3         584193128000\n",
       "4         584196117000\n",
       "5         231461150000\n",
       "              ...     \n",
       "127635    354302524000\n",
       "127636    396264807000\n",
       "127637    396263084000\n",
       "127638    396362442000\n",
       "127639    396356239000\n",
       "Name: PA_MCPI, Length: 127639, dtype: object"
      ]
     },
     "execution_count": 5,
     "metadata": {},
     "output_type": "execute_result"
    }
   ],
   "source": [
    "Parcel"
   ]
  },
  {
   "cell_type": "code",
   "execution_count": 13,
   "id": "a4958670-05d4-40ee-8a48-3e4a32f158ae",
   "metadata": {},
   "outputs": [
    {
     "data": {
      "text/plain": [
       "'039203989000'"
      ]
     },
     "execution_count": 13,
     "metadata": {},
     "output_type": "execute_result"
    }
   ],
   "source": [
    "#right now, Parcel is in a good format, retaining leading zeros on parcel id\n",
    "(Parcel.loc[8600])\n",
    "\n",
    "   \n"
   ]
  },
  {
   "cell_type": "code",
   "execution_count": 5,
   "id": "15663205-c25a-4d15-95e0-bc32d9badcbd",
   "metadata": {},
   "outputs": [
    {
     "data": {
      "text/plain": [
       "pandas.core.series.Series"
      ]
     },
     "execution_count": 5,
     "metadata": {},
     "output_type": "execute_result"
    }
   ],
   "source": [
    "type(Parcel)"
   ]
  },
  {
   "cell_type": "code",
   "execution_count": 27,
   "id": "ffd31348-7b4e-4b7a-ad3e-577537af1d35",
   "metadata": {},
   "outputs": [
    {
     "data": {
      "text/plain": [
       "(127639,)"
      ]
     },
     "execution_count": 27,
     "metadata": {},
     "output_type": "execute_result"
    }
   ],
   "source": [
    "Parcel.shape"
   ]
  },
  {
   "cell_type": "code",
   "execution_count": 14,
   "id": "4150124b-39a7-4045-84e8-435148fc711b",
   "metadata": {},
   "outputs": [
    {
     "data": {
      "text/plain": [
       "39203699000.0"
      ]
     },
     "execution_count": 14,
     "metadata": {},
     "output_type": "execute_result"
    }
   ],
   "source": [
    "#does not retain leading zeros\n",
    "Parid_num.iloc[8600]"
   ]
  },
  {
   "cell_type": "code",
   "execution_count": 16,
   "id": "268aea91-2d9a-4d28-a6b1-71a616a3e790",
   "metadata": {},
   "outputs": [
    {
     "name": "stdout",
     "output_type": "stream",
     "text": [
      "33\n"
     ]
    }
   ],
   "source": [
    "#check for NaNs, true if Nan, from kite\n",
    "Parid_count = Parid_num.isna().sum()\n",
    "print(Parid_count)"
   ]
  },
  {
   "cell_type": "code",
   "execution_count": 17,
   "id": "f765e388-4a6f-4be8-8aa6-bf26df1ad979",
   "metadata": {},
   "outputs": [],
   "source": [
    "# new variable with object in one column and number in the other\n",
    "Parcel2_data =[Parcel , Parid_num]\n",
    "headers = [\"Parcel\", \"Parid_num\"]\n",
    "Parcel2 = pd.concat(Parcel2_data, axis =1, keys = headers)"
   ]
  },
  {
   "cell_type": "code",
   "execution_count": 18,
   "id": "ce97a953-e99a-4db9-b624-67b29857d171",
   "metadata": {},
   "outputs": [
    {
     "data": {
      "text/plain": [
       "Parcel        039203699000\n",
       "Parid_num    39203699000.0\n",
       "Name: 8601, dtype: object"
      ]
     },
     "execution_count": 18,
     "metadata": {},
     "output_type": "execute_result"
    }
   ],
   "source": [
    "Parcel2.iloc[8600]"
   ]
  },
  {
   "cell_type": "code",
   "execution_count": 20,
   "id": "ff2148ef-671b-40e3-85a5-9a6548796636",
   "metadata": {},
   "outputs": [],
   "source": [
    "Parcel2_noNan = Parcel2.dropna(axis =0)"
   ]
  },
  {
   "cell_type": "code",
   "execution_count": 21,
   "id": "e03937c2-5b3f-4506-b5e5-3c47322b1ddb",
   "metadata": {},
   "outputs": [
    {
     "data": {
      "text/plain": [
       "(127606, 2)"
      ]
     },
     "execution_count": 21,
     "metadata": {},
     "output_type": "execute_result"
    }
   ],
   "source": [
    "#check that Nans removed\n",
    "Parcel2_noNan.shape"
   ]
  },
  {
   "cell_type": "code",
   "execution_count": 22,
   "id": "c2d95f84-98c0-4b2c-9def-b6ebb19ef0a9",
   "metadata": {},
   "outputs": [
    {
     "data": {
      "text/plain": [
       "Parcel        039396586000\n",
       "Parid_num    39396586000.0\n",
       "Name: 8615, dtype: object"
      ]
     },
     "execution_count": 22,
     "metadata": {},
     "output_type": "execute_result"
    }
   ],
   "source": [
    "Parcel2_noNan.iloc[8600]"
   ]
  },
  {
   "cell_type": "code",
   "execution_count": 28,
   "id": "377f9d4b-e47b-48b8-8ee8-87293816d26b",
   "metadata": {},
   "outputs": [
    {
     "data": {
      "text/plain": [
       "(127606,)"
      ]
     },
     "execution_count": 28,
     "metadata": {},
     "output_type": "execute_result"
    }
   ],
   "source": [
    "#drop Nan - compare to Parcel2_noNan to make sure the same size\n",
    "parid_num = Parid_num.dropna()\n",
    "parid_num.shape"
   ]
  },
  {
   "cell_type": "code",
   "execution_count": 29,
   "id": "7cda8588-7e8d-42df-8419-c050e3839cb4",
   "metadata": {},
   "outputs": [
    {
     "data": {
      "text/plain": [
       "OID_\n",
       "2    2.582768e+11\n",
       "3    5.841931e+11\n",
       "4    5.841961e+11\n",
       "5    2.314612e+11\n",
       "6    4.021556e+11\n",
       "Name: PA_MCPI, dtype: float64"
      ]
     },
     "execution_count": 29,
     "metadata": {},
     "output_type": "execute_result"
    }
   ],
   "source": [
    "parid_num.head()"
   ]
  },
  {
   "cell_type": "code",
   "execution_count": 30,
   "id": "571bc38b-f648-497e-9dfe-007049c3ed88",
   "metadata": {},
   "outputs": [],
   "source": [
    "#this will be th einput for the loop. it carries the Parcel Id numbers as objects\n",
    "Parcel_input = Parcel2_noNan[[\"Parcel\"]].copy()"
   ]
  },
  {
   "cell_type": "code",
   "execution_count": 31,
   "id": "1fbc9ffe-14f5-43f0-8c80-a8c2299173c4",
   "metadata": {},
   "outputs": [
    {
     "data": {
      "text/plain": [
       "Parcel    039396586000\n",
       "Name: 8615, dtype: object"
      ]
     },
     "execution_count": 31,
     "metadata": {},
     "output_type": "execute_result"
    }
   ],
   "source": [
    "Parcel_input.iloc[8600]"
   ]
  },
  {
   "cell_type": "code",
   "execution_count": 32,
   "id": "9338c9c1-61fb-4f50-a2b0-3afe104a4f92",
   "metadata": {},
   "outputs": [
    {
     "data": {
      "text/html": [
       "<div>\n",
       "<style scoped>\n",
       "    .dataframe tbody tr th:only-of-type {\n",
       "        vertical-align: middle;\n",
       "    }\n",
       "\n",
       "    .dataframe tbody tr th {\n",
       "        vertical-align: top;\n",
       "    }\n",
       "\n",
       "    .dataframe thead th {\n",
       "        text-align: right;\n",
       "    }\n",
       "</style>\n",
       "<table border=\"1\" class=\"dataframe\">\n",
       "  <thead>\n",
       "    <tr style=\"text-align: right;\">\n",
       "      <th></th>\n",
       "      <th>Parcel</th>\n",
       "    </tr>\n",
       "    <tr>\n",
       "      <th>OID_</th>\n",
       "      <th></th>\n",
       "    </tr>\n",
       "  </thead>\n",
       "  <tbody>\n",
       "    <tr>\n",
       "      <th>2</th>\n",
       "      <td>258276827000</td>\n",
       "    </tr>\n",
       "    <tr>\n",
       "      <th>3</th>\n",
       "      <td>584193128000</td>\n",
       "    </tr>\n",
       "    <tr>\n",
       "      <th>4</th>\n",
       "      <td>584196117000</td>\n",
       "    </tr>\n",
       "    <tr>\n",
       "      <th>5</th>\n",
       "      <td>231461150000</td>\n",
       "    </tr>\n",
       "    <tr>\n",
       "      <th>6</th>\n",
       "      <td>402155556000</td>\n",
       "    </tr>\n",
       "  </tbody>\n",
       "</table>\n",
       "</div>"
      ],
      "text/plain": [
       "            Parcel\n",
       "OID_              \n",
       "2     258276827000\n",
       "3     584193128000\n",
       "4     584196117000\n",
       "5     231461150000\n",
       "6     402155556000"
      ]
     },
     "execution_count": 32,
     "metadata": {},
     "output_type": "execute_result"
    }
   ],
   "source": [
    "#verify data\n",
    "Parcel_input.head()"
   ]
  },
  {
   "cell_type": "code",
   "execution_count": 33,
   "id": "a44217fd-dff4-442e-b4db-c0710fda9114",
   "metadata": {},
   "outputs": [
    {
     "data": {
      "text/plain": [
       "Parcel    object\n",
       "dtype: object"
      ]
     },
     "execution_count": 33,
     "metadata": {},
     "output_type": "execute_result"
    }
   ],
   "source": [
    "Parcel_input.dtypes"
   ]
  },
  {
   "cell_type": "code",
   "execution_count": 34,
   "id": "a5e9f18c-a662-4165-b9ad-365fc9c7eb7f",
   "metadata": {},
   "outputs": [
    {
     "data": {
      "text/plain": [
       "Parcel    039396586000\n",
       "Name: 8615, dtype: object"
      ]
     },
     "execution_count": 34,
     "metadata": {},
     "output_type": "execute_result"
    }
   ],
   "source": [
    "Parcel_input.iloc[8600]"
   ]
  },
  {
   "cell_type": "code",
   "execution_count": 35,
   "id": "30e7323c-eb92-4050-ad2b-078fb74619bd",
   "metadata": {},
   "outputs": [
    {
     "data": {
      "text/plain": [
       "(127606, 1)"
      ]
     },
     "execution_count": 35,
     "metadata": {},
     "output_type": "execute_result"
    }
   ],
   "source": [
    "#one too many columns\n",
    "Parcel_input.shape"
   ]
  },
  {
   "cell_type": "code",
   "execution_count": 36,
   "id": "11f9d7d0-20db-433b-ba27-17185b586d0c",
   "metadata": {},
   "outputs": [],
   "source": [
    "#rest the index column to increase monotonically\n",
    "Parcel_input2=Parcel_input.reset_index()"
   ]
  },
  {
   "cell_type": "code",
   "execution_count": 37,
   "id": "afcd93fc-6b20-4f65-b227-454408fa57f6",
   "metadata": {},
   "outputs": [],
   "source": [
    "#rewrite the dataframe to remove the extra oid column\n",
    "Parcel_input2 = Parcel_input2[[\"Parcel\"]].copy()"
   ]
  },
  {
   "cell_type": "code",
   "execution_count": 38,
   "id": "e3732880-e417-411d-bf47-7731763b6f4a",
   "metadata": {},
   "outputs": [
    {
     "data": {
      "text/html": [
       "<div>\n",
       "<style scoped>\n",
       "    .dataframe tbody tr th:only-of-type {\n",
       "        vertical-align: middle;\n",
       "    }\n",
       "\n",
       "    .dataframe tbody tr th {\n",
       "        vertical-align: top;\n",
       "    }\n",
       "\n",
       "    .dataframe thead th {\n",
       "        text-align: right;\n",
       "    }\n",
       "</style>\n",
       "<table border=\"1\" class=\"dataframe\">\n",
       "  <thead>\n",
       "    <tr style=\"text-align: right;\">\n",
       "      <th></th>\n",
       "      <th>Parcel</th>\n",
       "    </tr>\n",
       "  </thead>\n",
       "  <tbody>\n",
       "    <tr>\n",
       "      <th>0</th>\n",
       "      <td>258276827000</td>\n",
       "    </tr>\n",
       "    <tr>\n",
       "      <th>1</th>\n",
       "      <td>584193128000</td>\n",
       "    </tr>\n",
       "    <tr>\n",
       "      <th>2</th>\n",
       "      <td>584196117000</td>\n",
       "    </tr>\n",
       "    <tr>\n",
       "      <th>3</th>\n",
       "      <td>231461150000</td>\n",
       "    </tr>\n",
       "    <tr>\n",
       "      <th>4</th>\n",
       "      <td>402155556000</td>\n",
       "    </tr>\n",
       "  </tbody>\n",
       "</table>\n",
       "</div>"
      ],
      "text/plain": [
       "         Parcel\n",
       "0  258276827000\n",
       "1  584193128000\n",
       "2  584196117000\n",
       "3  231461150000\n",
       "4  402155556000"
      ]
     },
     "execution_count": 38,
     "metadata": {},
     "output_type": "execute_result"
    }
   ],
   "source": [
    "#Check results\n",
    "Parcel_input2.head()"
   ]
  },
  {
   "cell_type": "code",
   "execution_count": 40,
   "id": "22ee9d5e-7566-44e9-9c41-e01bea35a9e8",
   "metadata": {},
   "outputs": [
    {
     "data": {
      "text/plain": [
       "Parcel    039396586000\n",
       "Name: 8600, dtype: object"
      ]
     },
     "execution_count": 40,
     "metadata": {},
     "output_type": "execute_result"
    }
   ],
   "source": [
    "#recheck leading zeros issue\n",
    "Parcel_input2.iloc[8600]"
   ]
  },
  {
   "cell_type": "code",
   "execution_count": 43,
   "id": "1eac13d6-b7ce-49e6-b2d0-856d21ccf165",
   "metadata": {},
   "outputs": [
    {
     "data": {
      "text/plain": [
       "pandas.core.frame.DataFrame"
      ]
     },
     "execution_count": 43,
     "metadata": {},
     "output_type": "execute_result"
    }
   ],
   "source": [
    "type(Parcel_input2)"
   ]
  },
  {
   "cell_type": "code",
   "execution_count": 48,
   "id": "3a0573eb-c268-4ee8-a7a3-5f5a9f041f18",
   "metadata": {},
   "outputs": [],
   "source": [
    "#save Parcel_input2 so it can be called into selenium_loudoun loop\n",
    "import csv\n",
    "Parcel_input2['Parcel']=Parcel_input2['Parcel'].astype('str')\n",
    "Parcel_input2.to_csv('Loudoun_parcel.csv')"
   ]
  }
 ],
 "metadata": {
  "kernelspec": {
   "display_name": "Python 3 (ipykernel)",
   "language": "python",
   "name": "python3"
  },
  "language_info": {
   "codemirror_mode": {
    "name": "ipython",
    "version": 3
   },
   "file_extension": ".py",
   "mimetype": "text/x-python",
   "name": "python",
   "nbconvert_exporter": "python",
   "pygments_lexer": "ipython3",
   "version": "3.9.6"
  }
 },
 "nbformat": 4,
 "nbformat_minor": 5
}
