{
 "cells": [
  {
   "cell_type": "code",
   "execution_count": 1,
   "id": "eafb7d6d-4dd7-4bf4-80a8-8676c31c0492",
   "metadata": {},
   "outputs": [
    {
     "name": "stdout",
     "output_type": "stream",
     "text": [
      "\f",
      "\n"
     ]
    }
   ],
   "source": [
    "clear"
   ]
  },
  {
   "cell_type": "markdown",
   "id": "c3394edb-97ca-4349-8416-f267d0e0ffe0",
   "metadata": {},
   "source": [
    "#using tech with tim methods to load selenium and chromedriver\n",
    "\n",
    "needed imporvements:\n",
    "this file should be rewritten to save as the data is scraped"
   ]
  },
  {
   "cell_type": "code",
   "execution_count": 2,
   "id": "c71dcbda-c6c1-4249-9e8d-259f1a710692",
   "metadata": {},
   "outputs": [],
   "source": [
    "#tools to interact with the website\n",
    "import selenium\n",
    "from selenium.webdriver.common.keys import Keys\n",
    "from selenium import webdriver\n",
    "\n",
    "#tools for explicit waits\n",
    "from selenium.webdriver.common.by import By\n",
    "from selenium.webdriver.support.ui import WebDriverWait\n",
    "from selenium.webdriver.support import expected_conditions as EC\n",
    "from selenium.common.exceptions import TimeoutException\n",
    "\n",
    "#tools to organize data pulled from website\n",
    "import pandas as pd\n",
    "import io\n",
    "from io import StringIO\n",
    "import numpy as np\n",
    "import time as time\n",
    "#import libraries to set up a user agent - way for web site to contact me?\n",
    "from selenium.webdriver.chrome.options import Options\n",
    "#from fake_useragent import UserAgent\n",
    "\n",
    "#assess size of objects\n",
    "import sys"
   ]
  },
  {
   "cell_type": "markdown",
   "id": "81414d24-c629-4d8f-9dad-2ce1f632642f",
   "metadata": {},
   "source": [
    "LOAD THE PARCEL DATA HERE"
   ]
  },
  {
   "cell_type": "code",
   "execution_count": 3,
   "id": "e6082771-7fb3-4542-b6a3-6f5253de3a58",
   "metadata": {},
   "outputs": [],
   "source": [
    "#used selenium_loudoun_parcel.ipynb to get the parcel data into a good format\n",
    "file='C:/Users/mhcin/Loudoun_parcel.csv'\n",
    "Parcel_input2=pd.read_csv(file, index_col=0, dtype = 'str')"
   ]
  },
  {
   "cell_type": "code",
   "execution_count": 4,
   "id": "ebb7c95d-ce26-4111-b891-aed8f3db38b3",
   "metadata": {},
   "outputs": [
    {
     "data": {
      "text/plain": [
       "pandas.core.frame.DataFrame"
      ]
     },
     "execution_count": 4,
     "metadata": {},
     "output_type": "execute_result"
    }
   ],
   "source": [
    "#check data type\n",
    "type(Parcel_input2)"
   ]
  },
  {
   "cell_type": "code",
   "execution_count": 5,
   "id": "7ad48830-c5f4-4e82-89f2-fbc7623b98e9",
   "metadata": {},
   "outputs": [
    {
     "data": {
      "text/html": [
       "<div>\n",
       "<style scoped>\n",
       "    .dataframe tbody tr th:only-of-type {\n",
       "        vertical-align: middle;\n",
       "    }\n",
       "\n",
       "    .dataframe tbody tr th {\n",
       "        vertical-align: top;\n",
       "    }\n",
       "\n",
       "    .dataframe thead th {\n",
       "        text-align: right;\n",
       "    }\n",
       "</style>\n",
       "<table border=\"1\" class=\"dataframe\">\n",
       "  <thead>\n",
       "    <tr style=\"text-align: right;\">\n",
       "      <th></th>\n",
       "      <th>Parcel</th>\n",
       "    </tr>\n",
       "  </thead>\n",
       "  <tbody>\n",
       "    <tr>\n",
       "      <th>0</th>\n",
       "      <td>258276827000</td>\n",
       "    </tr>\n",
       "    <tr>\n",
       "      <th>1</th>\n",
       "      <td>584193128000</td>\n",
       "    </tr>\n",
       "    <tr>\n",
       "      <th>2</th>\n",
       "      <td>584196117000</td>\n",
       "    </tr>\n",
       "    <tr>\n",
       "      <th>3</th>\n",
       "      <td>231461150000</td>\n",
       "    </tr>\n",
       "    <tr>\n",
       "      <th>4</th>\n",
       "      <td>402155556000</td>\n",
       "    </tr>\n",
       "    <tr>\n",
       "      <th>...</th>\n",
       "      <td>...</td>\n",
       "    </tr>\n",
       "    <tr>\n",
       "      <th>127601</th>\n",
       "      <td>354302524000</td>\n",
       "    </tr>\n",
       "    <tr>\n",
       "      <th>127602</th>\n",
       "      <td>396264807000</td>\n",
       "    </tr>\n",
       "    <tr>\n",
       "      <th>127603</th>\n",
       "      <td>396263084000</td>\n",
       "    </tr>\n",
       "    <tr>\n",
       "      <th>127604</th>\n",
       "      <td>396362442000</td>\n",
       "    </tr>\n",
       "    <tr>\n",
       "      <th>127605</th>\n",
       "      <td>396356239000</td>\n",
       "    </tr>\n",
       "  </tbody>\n",
       "</table>\n",
       "<p>127606 rows × 1 columns</p>\n",
       "</div>"
      ],
      "text/plain": [
       "              Parcel\n",
       "0       258276827000\n",
       "1       584193128000\n",
       "2       584196117000\n",
       "3       231461150000\n",
       "4       402155556000\n",
       "...              ...\n",
       "127601  354302524000\n",
       "127602  396264807000\n",
       "127603  396263084000\n",
       "127604  396362442000\n",
       "127605  396356239000\n",
       "\n",
       "[127606 rows x 1 columns]"
      ]
     },
     "execution_count": 5,
     "metadata": {},
     "output_type": "execute_result"
    }
   ],
   "source": [
    "Parcel_input2"
   ]
  },
  {
   "cell_type": "code",
   "execution_count": 6,
   "id": "d5f10ed8-29f2-4352-abf4-22cbfb20ed91",
   "metadata": {},
   "outputs": [
    {
     "data": {
      "text/plain": [
       "Parcel    039396586000\n",
       "Name: 8600, dtype: object"
      ]
     },
     "execution_count": 6,
     "metadata": {},
     "output_type": "execute_result"
    }
   ],
   "source": [
    "#check to make sure leading zeros are preserved\n",
    "Parcel_input2.iloc[8600]"
   ]
  },
  {
   "cell_type": "markdown",
   "id": "02bf58ec-27ff-423b-9cff-8b13afa052c4",
   "metadata": {},
   "source": [
    "ACCESS WEBSITE HERE"
   ]
  },
  {
   "cell_type": "code",
   "execution_count": 7,
   "id": "993d6433-f6a7-4844-bfe7-6cb644bc7786",
   "metadata": {},
   "outputs": [],
   "source": [
    "PATH = \"C:\\Program Files (x86)\\chromedriver.exe\""
   ]
  },
  {
   "cell_type": "code",
   "execution_count": 8,
   "id": "be59f626-2b9f-4cb6-9537-fcdc56dbb7d5",
   "metadata": {},
   "outputs": [],
   "source": [
    "#pick the browser\n",
    "#code from stackoverflow\n",
    "opts = Options()\n",
    "#opts.add_argument(\"user-agent=['tara.kniskern@gmail.com']\")\n",
    "driver = webdriver.Chrome(PATH, options=opts)\n",
    "driver = webdriver.Chrome(PATH)"
   ]
  },
  {
   "cell_type": "code",
   "execution_count": 9,
   "id": "e963fb43-5afe-42c5-a23c-044780ffe172",
   "metadata": {},
   "outputs": [],
   "source": [
    "agent = driver.execute_script('return navigator.userAgent')"
   ]
  },
  {
   "cell_type": "code",
   "execution_count": 10,
   "id": "d7234161-3017-41d7-99c3-ea9e3ac2120d",
   "metadata": {},
   "outputs": [
    {
     "name": "stdout",
     "output_type": "stream",
     "text": [
      "Mozilla/5.0 (Windows NT 10.0; Win64; x64) AppleWebKit/537.36 (KHTML, like Gecko) Chrome/94.0.4606.81 Safari/537.36\n"
     ]
    }
   ],
   "source": [
    "print(agent)"
   ]
  },
  {
   "cell_type": "markdown",
   "id": "5b70f21a-686f-4610-93f5-e649fdc26dd0",
   "metadata": {},
   "source": [
    "#test the Parid_button, remove from final version\n",
    "Parid_button = driver.find_element_by_xpath('//*[@id=\"ctl00_cphMainContent_SkeletonCtrl_3_txtSearchParam\"]')\n",
    "Parid_button.send_keys(Parcel_input2.iloc[0])\n",
    "\n",
    "time.sleep(1)"
   ]
  },
  {
   "cell_type": "code",
   "execution_count": null,
   "id": "78f3bcc4-8e42-4b17-9020-7f50d68fcaf2",
   "metadata": {},
   "outputs": [],
   "source": [
    "(len(Parcel_input2))"
   ]
  },
  {
   "cell_type": "code",
   "execution_count": 12,
   "id": "4928997a-9c43-4591-8cdd-6ec1b32f41d5",
   "metadata": {},
   "outputs": [],
   "source": [
    "#set this data frame up outside of the loop \n",
    "data_taxPaid = []\n",
    "data_PenPaid = []\n",
    "data_IntPaid = []\n",
    "data_FeesPaid = []\n",
    "data_TotPaid = []"
   ]
  },
  {
   "cell_type": "raw",
   "id": "d239806f-bdf3-4508-aa48-7cb588f10db0",
   "metadata": {},
   "source": [
    "START THE LOOP TO COLLECT TAX DATA FOR EACH PARCEL"
   ]
  },
  {
   "cell_type": "code",
   "execution_count": 62,
   "id": "454050eb-7365-4f05-b8ad-3474efb17618",
   "metadata": {},
   "outputs": [
    {
     "name": "stdout",
     "output_type": "stream",
     "text": [
      "aa = 7100\n",
      "aa = 7200\n",
      "aa = 8200\n",
      "aa = 8400\n",
      "aa = 8500\n",
      "aa = 8600\n",
      "aa = 8700\n",
      "aa = 9000\n",
      "aa = 9900\n"
     ]
    }
   ],
   "source": [
    "#def lououn_loop\n",
    "for number in Parcel_input2.iloc[0:len(Parcel_input2),0]:\n",
    "#for number in Parcel_input2.iloc[164:174,0]:\n",
    "    #try to enter a parcel id, hopefully it will interact with this page and not reset to previous page\n",
    "    if 'Parid_button' in globals():\n",
    "        #reload page to avoid stale element reference\n",
    "        driver.get(\"https://loudounportal.com/taxes/default.aspx\")\n",
    "        time.sleep(1)\n",
    "        \n",
    "    button = driver.find_element_by_xpath('//*[@id=\"ctl00_cphMainContent_SkeletonCtrl_3_btnAcceptRE\"]')\n",
    "    button.click()\n",
    "    time.sleep(1)\n",
    "    Parid_button = driver.find_element_by_xpath('//*[@id=\"ctl00_cphMainContent_SkeletonCtrl_3_txtSearchParam\"]')\n",
    "    Parid_button.send_keys(number)\n",
    "    \n",
    "\n",
    "    time.sleep(1)\n",
    "\n",
    "    #hit the search button\n",
    "    button_search =driver.find_element_by_xpath('//*[@id=\"ctl00_cphMainContent_SkeletonCtrl_3_btnSearch\"]')\n",
    "    button_search.click()\n",
    "    \n",
    "    #counter to show that the loop is making progress\n",
    "    aa_idx =(Parcel_input2.loc[Parcel_input2['Parcel'] == number])\n",
    "    aa = aa_idx.index[0]\n",
    "    if aa % 100 == 0:\n",
    "        print ('aa = {}'.format(aa))\n",
    "\n",
    "    time.sleep(1)\n",
    "    \n",
    "    #need to deal with ALERT popups here because sometimes there are no records\n",
    "    #attempted code from stackoverflow\n",
    "    try:\n",
    "        WebDriverWait(driver, 3).until(EC.alert_is_present(),\n",
    "                                   'Timed out waiting for PA creation ' +\n",
    "                                   'confirmation popup to appear.')\n",
    "\n",
    "        alert = driver.switch_to.alert\n",
    "        alert.accept()\n",
    "        #print(\"alert accepted\")\n",
    "        #deal with no dota for that parcel, assumes forst parcel has data, will see a popup\n",
    "        if 'df_taxPaid' in globals():\n",
    "                df_taxPaid.iloc[0] = np.nan\n",
    "                df_PenPaid.iloc[0] = np.nan\n",
    "                df_IntPaid.iloc[0] = np.nan\n",
    "                df_FeesPaid.iloc[0] = np.nan\n",
    "                df_TotPaid.iloc[0] = np.nan \n",
    "        else:\n",
    "            #this is a kludge that assumes the first parcel called has data\n",
    "            print('error getting df_taxPaid')\n",
    "    \n",
    "    except TimeoutException:\n",
    "        #print(\"no alert\")\n",
    "        #select the \"view yearly payment totals\"\n",
    "        button_yearlytot = driver.find_element_by_xpath('//*[@id=\"ctl00_cphMainContent_SkeletonCtrl_3_pnlTotalResults\"]/strong/div/div/div[1]/div[2]/button')\n",
    "        button_yearlytot.click()\n",
    "\n",
    "        #scrape the data - from Tech with Tim youtube tutorials\n",
    "        #if the web window is too small, the website compresses the data to year and total paid. \n",
    "        #this misses a lot of data. are some homes regularly assessed fines?\n",
    "        #need to write a loop in case data is missing from yearly totals button, but is in account information\n",
    "        #try to find the text showing missing data, then import from account info; except - get tehe tabel information\n",
    "        try:\n",
    "            WebDriverWait(driver, 3).until(EC.presence_of_element_located((By.ID, \"ctl00_cphMainContent_SkeletonCtrl_3_pnlNoPmtTotals\")))\n",
    "                 #get the data from the table - it looks like these folks don't pay \n",
    "                #real estate taxes, lots of reason for that (e.g. veteran status)\n",
    "            if 'df_taxPaid' in globals():\n",
    "                    df_taxPaid.iloc[0] = '$0.00'\n",
    "                    df_PenPaid.iloc[0] = '$0.00'\n",
    "                    df_IntPaid.iloc[0] = '$0.00'\n",
    "                    df_FeesPaid.iloc[0] = '$0.00'\n",
    "                    df_TotPaid.iloc[0] = '$0.00'\n",
    "            else:\n",
    "                print('error getting df_taxPaid')\n",
    "                #this is a kludge that assumes the first parcel called has data                                               '\n",
    "        except TimeoutException:\n",
    "            if 'table' in globals():\n",
    "                del table\n",
    "            table =  driver.find_element_by_xpath('//*[@id=\"ctl00_cphMainContent_SkeletonCtrl_3_gvYearlyPmtTotals\"]')\n",
    "            \n",
    "            #the text is in string fromat, will need to change that\n",
    "            #print(table.text)\n",
    "\n",
    "            #manipulate the output so that each parcel id is a record/row, for each year\n",
    "            #there will be an issue later for homes with varaible tax histories, will need to figure that out\n",
    "            if 'Parcel_tax_table' in globals():\n",
    "                del Parcel_tax_table\n",
    "            Parcel_tax_table =table.text\n",
    "           \n",
    "            #wrap the string data in a Stringio wrapper - from geeeksforgeeks.org\n",
    "            if 'StringData' in globals():\n",
    "                del StringData\n",
    "                StringData = StringIO(Parcel_tax_table)\n",
    "            else:\n",
    "                StringData = StringIO(Parcel_tax_table)\n",
    "               \n",
    "            #put into a data frame\n",
    "            if 'df' in globals():\n",
    "                del df\n",
    "            df = pd.read_csv(StringData, sep =\" \")\n",
    "         \n",
    "\n",
    "            #GET SIZE OF OUTPUT\n",
    "            if 'df_size' in globals():\n",
    "                del df_size\n",
    "            df_size=df.shape\n",
    "          \n",
    "            #reshape df\n",
    "            if 'df2' in globals():\n",
    "                del df2\n",
    "            df2 = df.iloc[0:df_size[0],0:6] #can edit this number to expected size of table\n",
    "            \n",
    "                      \n",
    "            #change the table headers\n",
    "            df2.columns= ['Year', 'Tax_Paid', 'Pen_Paid', 'Int_Paid', 'Fees_Paid','Tot_Paid']\n",
    "\n",
    "  \n",
    "            #make a data frame for each tax column. Matrix will be record parcel id in row, column header is year, \n",
    "            #make an array for tax paid, set year for index, and rotate so Parcel is rows, year is column\n",
    "            if 'df_taxPaid' in globals():\n",
    "                del df_taxPaid, df_PenPaid, df_IntPaid, df_FeesPaid, df_TotPaid\n",
    "            df_taxPaid = df2[['Year', 'Tax_Paid']].set_index('Year').T #tax paid\n",
    "            df_PenPaid = df2[['Year', 'Pen_Paid']].set_index('Year').T #penalty paid\n",
    "            df_IntPaid = df2[['Year', 'Int_Paid']].set_index('Year').T #Interest paid\n",
    "            df_FeesPaid = df2[['Year', 'Fees_Paid']].set_index('Year').T #fees paid\n",
    "            df_TotPaid = df2[['Year', 'Tot_Paid']].set_index('Year').T #total paid: tax+penalties+fees+interest\n",
    "                   \n",
    "    #SHOULDNT USE APPEND OR CONCAT WTIHIN A LOOP for a dataframe. append as a list\n",
    "    #RESEARCH CHUNK or using dicts\n",
    "    #here will attemp to use dicts\n",
    "   \n",
    "    data_taxPaid.append(dict(zip(df_taxPaid.columns, df_taxPaid.iloc[0])))\n",
    "    data_PenPaid.append(dict(zip(df_PenPaid.columns, df_PenPaid.iloc[0])))\n",
    "    data_IntPaid.append(dict(zip(df_IntPaid.columns, df_IntPaid.iloc[0])))\n",
    "    data_FeesPaid.append(dict(zip(df_FeesPaid.columns, df_FeesPaid.iloc[0])))\n",
    "    data_TotPaid.append(dict(zip(df_TotPaid.columns, df_TotPaid.iloc[0])))\n",
    "      #   DF_TaxPaid = pd.DataFrame(data)\n",
    "    "
   ]
  },
  {
   "cell_type": "code",
   "execution_count": 19,
   "id": "3f81c663-5d72-416e-ac54-3d8f54271fff",
   "metadata": {},
   "outputs": [],
   "source": [
    "keys = data_taxPaid[0].keys() #or use list.data_taxPaid"
   ]
  },
  {
   "cell_type": "code",
   "execution_count": 16,
   "id": "73de2737-22b4-4056-a15f-3d4039048733",
   "metadata": {},
   "outputs": [],
   "source": [
    "#import tools to help save the data\n",
    "import pickle\n",
    "import csv"
   ]
  },
  {
   "cell_type": "code",
   "execution_count": 24,
   "id": "7de29800-df1e-4f5e-85a7-7353ec3bafad",
   "metadata": {},
   "outputs": [],
   "source": [
    "#WORKED - FROM STACKOVERFLOW - WRITING A LIST OF DICTIONARIES TO A CSV FILE\n",
    "#save several files because sometimes the website goes offline\n",
    "\n",
    "\n",
    "keys = data_taxPaid[0].keys()\n",
    "with open('data_taxPaid_122302to127605.csv', 'w', newline='') as output_file:\n",
    "    dict_writer = csv.DictWriter(output_file, keys)\n",
    "    dict_writer.writeheader()\n",
    "    dict_writer.writerows(data_taxPaid) "
   ]
  },
  {
   "cell_type": "code",
   "execution_count": 25,
   "id": "4139992a-41fa-4929-a55e-da1402715da3",
   "metadata": {},
   "outputs": [],
   "source": [
    "#convert the rest of the prelim data to csv\n",
    "del keys\n",
    "keys = data_PenPaid[0].keys()\n",
    "with open('data_PenPaid_122302to127605.csv', 'w', newline='') as output_file:\n",
    "    dict_writer = csv.DictWriter(output_file, keys)\n",
    "    dict_writer.writeheader()\n",
    "    dict_writer.writerows(data_PenPaid) \n",
    "\n",
    "del keys\n",
    "keys = data_IntPaid[0].keys()\n",
    "with open('data_IntPaid_122302to127605.csv', 'w', newline='') as output_file:\n",
    "    dict_writer = csv.DictWriter(output_file, keys)\n",
    "    dict_writer.writeheader()\n",
    "    dict_writer.writerows(data_IntPaid) \n",
    "\n",
    "del keys\n",
    "keys = data_FeesPaid[0].keys()\n",
    "with open('data_FeesPaid_122302to127605.csv', 'w', newline='') as output_file:\n",
    "    dict_writer = csv.DictWriter(output_file, keys)\n",
    "    dict_writer.writeheader()\n",
    "    dict_writer.writerows(data_FeesPaid) \n",
    "\n",
    "del keys\n",
    "keys = data_TotPaid[0].keys()\n",
    "with open('data_TotPaid_122302to127605.csv', 'w', newline='') as output_file:\n",
    "    dict_writer = csv.DictWriter(output_file, keys)\n",
    "    dict_writer.writeheader()\n",
    "    dict_writer.writerows(data_TotPaid) "
   ]
  },
  {
   "cell_type": "code",
   "execution_count": 20,
   "id": "e18dc9d8-3d24-4dee-a765-f43c389c0e69",
   "metadata": {},
   "outputs": [],
   "source": [
    "#closes the web browser\n",
    "driver.quit()"
   ]
  }
 ],
 "metadata": {
  "kernelspec": {
   "display_name": "Python 3 (ipykernel)",
   "language": "python",
   "name": "python3"
  },
  "language_info": {
   "codemirror_mode": {
    "name": "ipython",
    "version": 3
   },
   "file_extension": ".py",
   "mimetype": "text/x-python",
   "name": "python",
   "nbconvert_exporter": "python",
   "pygments_lexer": "ipython3",
   "version": "3.9.6"
  }
 },
 "nbformat": 4,
 "nbformat_minor": 5
}
